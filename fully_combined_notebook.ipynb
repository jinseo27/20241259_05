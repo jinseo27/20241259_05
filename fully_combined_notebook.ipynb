{
 "cells": [
  {
   "cell_type": "markdown",
   "id": "456a4e4c-742a-48bb-b048-fd1830cf7e1c",
   "metadata": {},
   "source": [
    "# 3. 생일 데이터를 교재 코드를 이용해 힙으로 저장하고, 생일이 느린 순서로 10명의 친구를 출력하는 코드를 작성 "
   ]
  },
  {
   "cell_type": "code",
   "execution_count": 3,
   "id": "141951e3-8eb9-4325-bafd-bee1e9de7f82",
   "metadata": {},
   "outputs": [
    {
     "name": "stdout",
     "output_type": "stream",
     "text": [
      "생일이 가장 늦은 10명의 친구:\n",
      "홍서연 (20241282)\n",
      "신수민 (20051230)\n",
      "이서영 (20051225)\n",
      "강민주 (20051214)\n",
      "김민경 (20051202)\n",
      "이서영 (20051112)\n",
      "배시은 (20051102)\n",
      "김여원 (20051031)\n",
      "이서진 (20051028)\n",
      "서홍빈 (20051024)\n"
     ]
    }
   ],
   "source": [
    "import csv\n",
    "\n",
    "\n",
    "class Friend:\n",
    "    def __init__(self, name, birth):\n",
    "        self.name = name\n",
    "        self.birth = birth\n",
    "        self.birth_value = int(birth)\n",
    "\n",
    "    def __repr__(self):\n",
    "        return f\"{self.name} ({self.birth})\"\n",
    "\n",
    "\n",
    "class Heap:\n",
    "    def __init__(self, *args):\n",
    "        if len(args) != 0:\n",
    "            self.__A = args[0]\n",
    "        else:\n",
    "            self.__A = []\n",
    "\n",
    "    def insert(self, x):\n",
    "        self.__A.append(x)\n",
    "        self.__percolateUp(len(self.__A)-1)\n",
    "\n",
    "    def __percolateUp(self, i: int):\n",
    "        parent = (i - 1) // 2\n",
    "        if i > 0 and self.__A[i][0] > self.__A[parent][0]:  \n",
    "            self.__A[i], self.__A[parent] = self.__A[parent], self.__A[i]\n",
    "            self.__percolateUp(parent)\n",
    "\n",
    "    def deleteMax(self):\n",
    "        if not self.isEmpty():\n",
    "            max = self.__A[0]\n",
    "            self.__A[0] = self.__A.pop()\n",
    "            self.__percolateDown(0)\n",
    "            return max\n",
    "        return None\n",
    "\n",
    "    def __percolateDown(self, i: int):\n",
    "        child = 2 * i + 1\n",
    "        right = 2 * i + 2\n",
    "        if child <= len(self.__A) - 1:\n",
    "            if right <= len(self.__A) - 1 and self.__A[child][0] < self.__A[right][0]:\n",
    "                child = right\n",
    "            if self.__A[i][0] < self.__A[child][0]:\n",
    "                self.__A[i], self.__A[child] = self.__A[child], self.__A[i]\n",
    "                self.__percolateDown(child)\n",
    "\n",
    "    def isEmpty(self):\n",
    "        return len(self.__A) == 0\n",
    "\n",
    "heap = Heap()\n",
    "\n",
    "with open(\"C:/Users/2leej/Downloads/birthday.csv\", newline='', encoding='utf-8') as csvfile:\n",
    "    reader = csv.DictReader(csvfile)\n",
    "    for row in reader:\n",
    "        name = row['이름'].strip()\n",
    "        birth = row['생년월일8자리(예.20040101)'].strip()\n",
    "\n",
    "        if not birth.isdigit(): \n",
    "            continue\n",
    "\n",
    "        friend = Friend(name, birth)\n",
    "        heap.insert((friend.birth_value, friend))  \n",
    "\n",
    "\n",
    "\n",
    "print(\"생일이 가장 늦은 10명의 친구:\")\n",
    "for _ in range(10):\n",
    "    if not heap.isEmpty():\n",
    "        _, friend = heap.deleteMax()\n",
    "        print(friend)\n"
   ]
  },
  {
   "cell_type": "markdown",
   "id": "6b7a8302-ad0b-42c5-a1b5-c5d1d56f576e",
   "metadata": {},
   "source": [
    "# 4. 생일 데이터를 교재 코드(circularDoublyLinkedList.py)를 이용해 리스트로 저장하고, 같은 조의 친구들만 이름과 생년월일을 출력하는 코드 작성하기 "
   ]
  },
  {
   "cell_type": "code",
   "execution_count": 4,
   "id": "a9b37643-ae1c-4aa5-919f-e1fe3079d88b",
   "metadata": {},
   "outputs": [
    {
     "name": "stdout",
     "output_type": "stream",
     "text": [
      "같은 조 친구들의 이름 - 생일:\n",
      "김난영 - 20040117\n",
      "김남은 - 20000209\n",
      "김미배 - 20050324\n",
      "양소윤 - 20030702\n",
      "유채원 - 20050920\n",
      "이서진 - 20050305\n",
      "이서진 - 20051028\n",
      "이서현 - 20040609\n",
      "주희선 - 20050926\n"
     ]
    }
   ],
   "source": [
    "import csv\n",
    "\n",
    "class BidirectNode:\n",
    "    def __init__(self, item, prev, next):\n",
    "        self.item = item\n",
    "        self.prev = prev\n",
    "        self.next = next\n",
    "\n",
    "\n",
    "class Friend:\n",
    "    def __init__(self, name, birth):  # birth: yyyymmdd 형식\n",
    "        self.name = name\n",
    "        self.birth = birth\n",
    "\n",
    "    def __repr__(self):\n",
    "        return f\"{self.name} ({self.birth})\"\n",
    "\n",
    "\n",
    "same_team = {\n",
    "    \"김남은\", \"김미배\", \"김연우\", \"김난영\",\n",
    "    \"류현주\", \"이서진\", \"양소윤\", \"수민\",\n",
    "    \"유채원\", \"이서현\", \"이예성\", \"주희선\"\n",
    "}\n",
    "\n",
    "\n",
    "class CircularDoublyLinkedList:\n",
    "    def __init__(self):\n",
    "        self.__head = BidirectNode(\"dummy\", None, None)\n",
    "        self.__head.prev = self.__head\n",
    "        self.__head.next = self.__head\n",
    "        self.__numItems = 0\n",
    "\n",
    "    def append(self, newItem) -> None:\n",
    "        prev = self.__head.prev\n",
    "        newNode = BidirectNode(newItem, prev, self.__head)\n",
    "        prev.next = newNode\n",
    "        self.__head.prev = newNode\n",
    "        self.__numItems += 1\n",
    "\n",
    "    def __iter__(self):\n",
    "        return CircularDoublyLinkedListIterator(self)\n",
    "\n",
    "    def getNode(self, i: int) -> BidirectNode:\n",
    "        curr = self.__head\n",
    "        for _ in range(i + 1):\n",
    "            curr = curr.next\n",
    "        return curr\n",
    "\n",
    "class CircularDoublyLinkedListIterator:\n",
    "    def __init__(self, alist):\n",
    "        self.__head = alist.getNode(-1)\n",
    "        self.iterPosition = self.__head.next\n",
    "\n",
    "    def __next__(self):\n",
    "        if self.iterPosition == self.__head:\n",
    "            raise StopIteration\n",
    "        else:\n",
    "            item = self.iterPosition.item\n",
    "            self.iterPosition = self.iterPosition.next\n",
    "            return item\n",
    "\n",
    "    def __iter__(self):\n",
    "        return self\n",
    "\n",
    "\n",
    "friend_list = CircularDoublyLinkedList()\n",
    "\n",
    "\n",
    "with open(\"C:/Users/2leej/Downloads/birthday.csv\", newline='', encoding='utf-8') as csvfile:\n",
    "    reader = csv.DictReader(csvfile)\n",
    "    for row in reader:\n",
    "        name = row['이름'].strip()\n",
    "        birth = row['생년월일8자리(예.20040101)'].strip()\n",
    "\n",
    "        if not birth.isdigit():\n",
    "            continue  \n",
    "\n",
    "        friend = Friend(name, birth)\n",
    "        friend_list.append(friend)\n",
    "\n",
    "\n",
    "print(\"같은 조 친구들의 이름 - 생일:\")\n",
    "for friend in friend_list:\n",
    "    if friend.name in same_team:\n",
    "        print(f\"{friend.name} - {friend.birth}\")\n"
   ]
  },
  {
   "cell_type": "markdown",
   "id": "9984b844-deea-4af1-b293-5b06055c6c63",
   "metadata": {},
   "source": [
    "# 5. 교재 Chapter 08"
   ]
  },
  {
   "cell_type": "markdown",
   "id": "8841cc7f-9cca-45c2-9aa3-9391a2ff75d6",
   "metadata": {},
   "source": [
    "## 01 "
   ]
  },
  {
   "cell_type": "markdown",
   "id": "fd4b4913-f5ba-4ce4-ae49-15ac07d86aeb",
   "metadata": {},
   "source": [
    "가질 수 있다 \n",
    "왜냐하면 최대 힙의 조건은 부모 ≥ 자식만 만족하면 되기 때문이다."
   ]
  },
  {
   "cell_type": "markdown",
   "id": "21471cdc-f711-43dc-b8d6-f7535a11f475",
   "metadata": {},
   "source": [
    "## 02"
   ]
  },
  {
   "cell_type": "markdown",
   "id": "145f218c-4550-4c8c-848e-ef6b8731af49",
   "metadata": {},
   "source": [
    "항상 가장 작은 값을 가지지 않는다. "
   ]
  },
  {
   "cell_type": "markdown",
   "id": "cd8931d8-e134-4582-9509-8725facb7c22",
   "metadata": {},
   "source": [
    "## 03"
   ]
  },
  {
   "cell_type": "markdown",
   "id": "7be9361a-7786-40ef-9cfb-ce5f27ae941b",
   "metadata": {},
   "source": [
    "⌊n/2⌋ 개"
   ]
  },
  {
   "cell_type": "markdown",
   "id": "8421a545-483b-4b94-a942-b2f341371ebf",
   "metadata": {},
   "source": [
    "## 04 "
   ]
  },
  {
   "cell_type": "markdown",
   "id": "0d8f5ebf-d15f-427e-a5eb-06367880e0d5",
   "metadata": {},
   "source": [
    "최악의 경우: Θ(log n)\n",
    "최선의 경우: Θ(1)"
   ]
  },
  {
   "cell_type": "markdown",
   "id": "eecbc927-ac9f-487b-8f8c-686a78b87c75",
   "metadata": {},
   "source": [
    "## 05 "
   ]
  },
  {
   "cell_type": "markdown",
   "id": "df2a5b97-fc10-4387-bda9-dcc5a37467b7",
   "metadata": {},
   "source": [
    "간단한 일이다."
   ]
  },
  {
   "cell_type": "markdown",
   "id": "5d5e2490-fe81-498f-9f0b-74b8c98718d8",
   "metadata": {},
   "source": [
    "## 06 "
   ]
  },
  {
   "cell_type": "markdown",
   "id": "1ead889f-4c70-4471-ac0e-3da65c421e4d",
   "metadata": {},
   "source": [
    "본문에 제시한 방법의 점근적 시간은 O(n)이지만 반대 방향으로 하게 되면 점근적 시간이 O(n log n)이 되므로 본문에 제시한 방법이 더 효율적이다."
   ]
  },
  {
   "cell_type": "markdown",
   "id": "aaaa64a7-0e5e-4366-9748-e830244a7ea8",
   "metadata": {},
   "source": [
    "## 07 "
   ]
  },
  {
   "cell_type": "markdown",
   "id": "43c4f466-1bbc-4af3-a002-dd438934f67d",
   "metadata": {},
   "source": [
    "임의의 원소의 값이 증가하면 해당 원소가 자신의 부모보다 커질 수 있어 힙의 성질이 깨지게 된다.\n",
    "스며올리기를 이용하여 다음과 같이 수행할 수 있다.\n",
    "\n",
    "1. 증가한 원소의 위치를 i라고 하면 부모 노드의 인덱스는 (i - 1) // 2로 계산할 수 있다.\n",
    "2. 부모 노드보다 증가된 원소가 크면, 두 노드를 swap한다.\n",
    "3. 이 과정을 루트에 도달하거나 더 이상 부모보다 크지 않을 때까지 반복한다.\n",
    "\n",
    "이 과정은 힙의 높이만큼만 비교를 수행하므로 O(log n) 시간에 힙의 성질을 유지하면서 구조를 수선할 수 있다."
   ]
  },
  {
   "cell_type": "markdown",
   "id": "faaab4ae-315e-4ca1-b2a0-2e17e1f135cc",
   "metadata": {},
   "source": [
    "# 6. LeetCode 703.Kth Largest Element in Stream "
   ]
  },
  {
   "cell_type": "code",
   "execution_count": null,
   "id": "f9086310-dd1d-49dd-955a-076660d76da9",
   "metadata": {},
   "outputs": [],
   "source": [
    "class KthLargest:\n",
    "    def __init__(self, k, nums):\n",
    "        self.k = k\n",
    "        self.heap = Heap()\n",
    "        for num in nums:\n",
    "            self.add(num)\n",
    "\n",
    "    def add(self, val):\n",
    "        self.heap.insert(val)\n",
    "\n",
    "        if self.heap.size() > self.k:\n",
    "            self.heap.deleteMin()\n",
    "\n",
    "        return self.heap.min()"
   ]
  }
 ],
 "metadata": {
  "kernelspec": {
   "display_name": "Python 3 (ipykernel)",
   "language": "python",
   "name": "python3"
  },
  "language_info": {
   "codemirror_mode": {
    "name": "ipython",
    "version": 3
   },
   "file_extension": ".py",
   "mimetype": "text/x-python",
   "name": "python",
   "nbconvert_exporter": "python",
   "pygments_lexer": "ipython3",
   "version": "3.12.7"
  }
 },
 "nbformat": 4,
 "nbformat_minor": 5
}
