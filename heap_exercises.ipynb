{
 "cells": [
  {
   "cell_type": "markdown",
   "id": "ad806b08",
   "metadata": {},
   "source": [
    "# 힙(Heap) 관련 연습문제 풀이"
   ]
  },
  {
   "cell_type": "markdown",
   "id": "7f912a7a",
   "metadata": {},
   "source": [
    "## 문제 1\n",
    "01. 최대 힙에서는 가장 큰 원소가 항상 루트에 있다. 즉, 루트의 깊이가 가장 얕다. 임의의 최대 힙에서 더 밑은 곳에 있는 원소가 더 깊은 곳에 있는 원소보다 더 작은 값을 가질 수 있는가?"
   ]
  },
  {
   "cell_type": "code",
   "execution_count": null,
   "id": "47f324c3",
   "metadata": {},
   "outputs": [],
   "source": [
    "# 문제 1 풀이를 여기에 작성하세요.\n"
   ]
  },
  {
   "cell_type": "markdown",
   "id": "ff572e8b",
   "metadata": {},
   "source": [
    "## 문제 2\n",
    "02. 최대 힙 A[0..n-1]에서 A[0]은 항상 가장 큰 값을 갖고 있다. 반대로 마지막 원소인 A[n-1]은 항상 가장 작은 값을 갖는가?"
   ]
  },
  {
   "cell_type": "code",
   "execution_count": null,
   "id": "a5023e04",
   "metadata": {},
   "outputs": [],
   "source": [
    "# 문제 2 풀이를 여기에 작성하세요.\n"
   ]
  },
  {
   "cell_type": "markdown",
   "id": "a7195db0",
   "metadata": {},
   "source": [
    "## 문제 3\n",
    "03. 임의의 리스트 A[0..n-1]을 힙으로 만드는 buildHeap() 알고리즘에서 총 n개의 원소 중 루트의 자식으로 스며버리기를 할지 말지 알아보지 않고 그냥 넘어가는 원소(힙의 노드) 수는 정확하게 몇 개인가?"
   ]
  },
  {
   "cell_type": "code",
   "execution_count": null,
   "id": "cf3eb664",
   "metadata": {},
   "outputs": [],
   "source": [
    "# 문제 3 풀이를 여기에 작성하세요.\n"
   ]
  },
  {
   "cell_type": "markdown",
   "id": "628200b0",
   "metadata": {},
   "source": [
    "## 문제 4\n",
    "04. 리스트 A[0..n-1]을 대상으로 하는 스며버리기 알고리즘에서, 최악의 경우에 해당하는 시간과 최선의 경우에 해당하는 시간은 어떻게 되는가? Θ-표기로 나타내시오."
   ]
  },
  {
   "cell_type": "code",
   "execution_count": null,
   "id": "fe3a94a0",
   "metadata": {},
   "outputs": [],
   "source": [
    "# 문제 4 풀이를 여기에 작성하세요.\n"
   ]
  },
  {
   "cell_type": "markdown",
   "id": "13da87d7",
   "metadata": {},
   "source": [
    "## 문제 5\n",
    "05. 힙의 상태에서 원소 삭제는 루트 노드를 대상으로 한다. 다른 경우는 존재하지 않는다. 테스트 목적으로 힙의 맨 마지막 원소를 삭제하는 작업을 요구한다면 간단한 일인가?"
   ]
  },
  {
   "cell_type": "code",
   "execution_count": null,
   "id": "ac8f77f0",
   "metadata": {},
   "outputs": [],
   "source": [
    "# 문제 5 풀이를 여기에 작성하세요.\n"
   ]
  },
  {
   "cell_type": "markdown",
   "id": "7fad9981",
   "metadata": {},
   "source": [
    "## 문제 6\n",
    "06. 어떤 학생이 다음과 같은 질문을 했다. 'buildHeap() 알고리즘에서는 아래쪽에서부터 시작해서 스며버리기를 반복하는데, 만약 반대 방향으로 하면 어떨까요? (즉, 위쪽에서부터 시작해서 스며오르기를 반복)' 이렇게 해도 힙이 만들어진다. 이 방법은 본문에 제시한 방법에 비해 더 효율적인가? 점근적 시간으로 말하시오."
   ]
  },
  {
   "cell_type": "code",
   "execution_count": null,
   "id": "4763cc6b",
   "metadata": {},
   "outputs": [],
   "source": [
    "# 문제 6 풀이를 여기에 작성하세요.\n"
   ]
  },
  {
   "cell_type": "markdown",
   "id": "45abdc9d",
   "metadata": {},
   "source": [
    "## 문제 7\n",
    "07. n개의 원소로 이루어진 최대 힙에서 임의의 원소 값이 증가했을 때 O(logn) 시간에 이를 반영해서 힙을 수선할 수 있다. 어떻게 하면 되는지 그 과정을 기술하시오."
   ]
  },
  {
   "cell_type": "code",
   "execution_count": null,
   "id": "08538c29",
   "metadata": {},
   "outputs": [],
   "source": [
    "# 문제 7 풀이를 여기에 작성하세요.\n"
   ]
  }
 ],
 "metadata": {},
 "nbformat": 4,
 "nbformat_minor": 5
}
