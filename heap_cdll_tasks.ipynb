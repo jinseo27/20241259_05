{
 "cells": [
  {
   "cell_type": "markdown",
   "id": "aa8c560f",
   "metadata": {},
   "source": [
    "# 이번 주 수행 과제 3, 4, 5, 6"
   ]
  },
  {
   "cell_type": "markdown",
   "id": "e559dc46",
   "metadata": {},
   "source": [
    "## 과제 3"
   ]
  },
  {
   "cell_type": "code",
   "execution_count": null,
   "id": "7119d92f",
   "metadata": {},
   "outputs": [],
   "source": [
    "import csv\n",
    "\n",
    "class BidirectNode:\n",
    "    def __init__(self, item, prev, next):\n",
    "        self.item = item\n",
    "        self.prev = prev\n",
    "        self.next = next\n",
    "\n",
    "\n",
    "class Friend:\n",
    "    def __init__(self, name, birth):  # birth: yyyymmdd 형식\n",
    "        self.name = name\n",
    "        self.birth = birth\n",
    "\n",
    "    def __repr__(self):\n",
    "        return f\"{self.name} ({self.birth})\"\n",
    "\n",
    "\n",
    "same_team = {\n",
    "    \"김수련\", \"오다현\", \"주영\", \"김다연\", \"김민영\", \"김여원\", \"김채린\", \"조예진\",\n",
    "    \"허재희\", \"김도경\", \"안소형\", \"윤서영\", \"홍지연\"\n",
    "}\n",
    "\n",
    "\n",
    "class CircularDoublyLinkedList:\n",
    "    def __init__(self):\n",
    "        self.__head = BidirectNode(\"dummy\", None, None)\n",
    "        self.__head.prev = self.__head\n",
    "        self.__head.next = self.__head\n",
    "        self.__numItems = 0\n",
    "\n",
    "    def append(self, newItem) -> None:\n",
    "        prev = self.__head.prev\n",
    "        newNode = BidirectNode(newItem, prev, self.__head)\n",
    "        prev.next = newNode\n",
    "        self.__head.prev = newNode\n",
    "        self.__numItems += 1\n",
    "\n",
    "    def __iter__(self):\n",
    "        return CircularDoublyLinkedListIterator(self)\n",
    "\n",
    "    def getNode(self, i: int) -> BidirectNode:\n",
    "        curr = self.__head\n",
    "        for _ in range(i + 1):\n",
    "            curr = curr.next\n",
    "        return curr\n",
    "\n",
    "class CircularDoublyLinkedListIterator:\n",
    "    def __init__(self, alist):\n",
    "        self.__head = alist.getNode(-1)\n",
    "        self.iterPosition = self.__head.next\n",
    "\n",
    "    def __next__(self):\n",
    "        if self.iterPosition == self.__head:\n",
    "            raise StopIteration\n",
    "        else:\n",
    "            item = self.iterPosition.item\n",
    "            self.iterPosition = self.iterPosition.next\n",
    "            return item\n",
    "\n",
    "    def __iter__(self):\n",
    "        return self\n",
    "\n",
    "\n",
    "friend_list = CircularDoublyLinkedList()\n",
    "\n",
    "\n",
    "with open(\"birthday.csv\", newline='') as csvfile:\n",
    "    reader = csv.DictReader(csvfile)\n",
    "    for row in reader:\n",
    "        name = row['이름'].strip()\n",
    "        birth = row['생년월일8자리(예.20040101)'].strip()\n",
    "\n",
    "        if not birth.isdigit():\n",
    "            continue  \n",
    "\n",
    "        friend = Friend(name, birth)\n",
    "        friend_list.append(friend)\n",
    "\n",
    "\n",
    "print(\"같은 조 친구들의 이름 - 생일:\")\n",
    "for friend in friend_list:\n",
    "    if friend.name in same_team:\n",
    "        print(f\"{friend.name} - {friend.birth}\")\n"
   ]
  },
  {
   "cell_type": "markdown",
   "id": "313ac5fa",
   "metadata": {},
   "source": [
    "**과제 3 실행 결과:**\n",
    "(아래에 출력이 나타납니다)"
   ]
  },
  {
   "cell_type": "markdown",
   "id": "158c55f2",
   "metadata": {},
   "source": [
    "## 과제 4"
   ]
  },
  {
   "cell_type": "code",
   "execution_count": null,
   "id": "666c3698",
   "metadata": {},
   "outputs": [],
   "source": [
    "# 과제 4 코드 또는 설명을 여기에 작성하세요."
   ]
  },
  {
   "cell_type": "markdown",
   "id": "22f1e99e",
   "metadata": {},
   "source": [
    "**과제 4 실행 결과:**\n",
    "(아래에 출력이 나타납니다)"
   ]
  },
  {
   "cell_type": "markdown",
   "id": "02399915",
   "metadata": {},
   "source": [
    "## 과제 5"
   ]
  },
  {
   "cell_type": "code",
   "execution_count": null,
   "id": "cd226548",
   "metadata": {},
   "outputs": [],
   "source": [
    "import csv\n",
    "\n",
    "\n",
    "class Friend:\n",
    "    def __init__(self, name, birth):\n",
    "        self.name = name\n",
    "        self.birth = birth\n",
    "        self.birth_value = int(birth)\n",
    "\n",
    "    def __repr__(self):\n",
    "        return f\"{self.name} ({self.birth})\"\n",
    "\n",
    "\n",
    "class Heap:\n",
    "    def __init__(self, *args):\n",
    "        if len(args) != 0:\n",
    "            self.__A = args[0]\n",
    "        else:\n",
    "            self.__A = []\n",
    "\n",
    "    def insert(self, x):\n",
    "        self.__A.append(x)\n",
    "        self.__percolateUp(len(self.__A)-1)\n",
    "\n",
    "    def __percolateUp(self, i: int):\n",
    "        parent = (i - 1) // 2\n",
    "        if i > 0 and self.__A[i][0] > self.__A[parent][0]:  \n",
    "            self.__A[i], self.__A[parent] = self.__A[parent], self.__A[i]\n",
    "            self.__percolateUp(parent)\n",
    "\n",
    "    def deleteMax(self):\n",
    "        if not self.isEmpty():\n",
    "            max = self.__A[0]\n",
    "            self.__A[0] = self.__A.pop()\n",
    "            self.__percolateDown(0)\n",
    "            return max\n",
    "        return None\n",
    "\n",
    "    def __percolateDown(self, i: int):\n",
    "        child = 2 * i + 1\n",
    "        right = 2 * i + 2\n",
    "        if child <= len(self.__A) - 1:\n",
    "            if right <= len(self.__A) - 1 and self.__A[child][0] < self.__A[right][0]:\n",
    "                child = right\n",
    "            if self.__A[i][0] < self.__A[child][0]:\n",
    "                self.__A[i], self.__A[child] = self.__A[child], self.__A[i]\n",
    "                self.__percolateDown(child)\n",
    "\n",
    "    def isEmpty(self):\n",
    "        return len(self.__A) == 0\n",
    "\n",
    "heap = Heap()\n",
    "\n",
    "with open(\"birthday.csv\", newline='') as csvfile:\n",
    "    reader = csv.DictReader(csvfile)\n",
    "    for row in reader:\n",
    "        name = row['이름'].strip()\n",
    "        birth = row['생년월일8자리(예.20040101)'].strip()\n",
    "\n",
    "        if not birth.isdigit():\n",
    "            print(f\"비어있음: {name} - '{birth}'\") \n",
    "            continue\n",
    "\n",
    "        friend = Friend(name, birth)\n",
    "        heap.insert((friend.birth_value, friend))  \n",
    "\n",
    "\n",
    "\n",
    "print(\"생일이 가장 늦은 10명의 친구:\")\n",
    "for _ in range(10):\n",
    "    if not heap.isEmpty():\n",
    "        _, friend = heap.deleteMax()\n",
    "        print(friend)\n"
   ]
  },
  {
   "cell_type": "markdown",
   "id": "094257d8",
   "metadata": {},
   "source": [
    "**과제 5 실행 결과:**\n",
    "(아래에 출력이 나타납니다)"
   ]
  },
  {
   "cell_type": "markdown",
   "id": "7644ddbb",
   "metadata": {},
   "source": [
    "## 과제 6"
   ]
  },
  {
   "cell_type": "code",
   "execution_count": null,
   "id": "1ab4b6cb",
   "metadata": {},
   "outputs": [],
   "source": [
    "# 과제 6 코드 또는 설명을 여기에 작성하세요."
   ]
  },
  {
   "cell_type": "markdown",
   "id": "39e024e1",
   "metadata": {},
   "source": [
    "**과제 6 실행 결과:**\n",
    "(아래에 출력이 나타납니다)"
   ]
  }
 ],
 "metadata": {},
 "nbformat": 4,
 "nbformat_minor": 5
}
